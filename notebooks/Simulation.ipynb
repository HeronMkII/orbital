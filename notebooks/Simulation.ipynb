{
 "cells": [
  {
   "cell_type": "code",
   "execution_count": 1,
   "metadata": {},
   "outputs": [
    {
     "name": "stdout",
     "output_type": "stream",
     "text": [
      "Populating the interactive namespace from numpy and matplotlib\n"
     ]
    }
   ],
   "source": [
    "%pylab inline\n",
    "import numpy as n\n",
    "import os.path\n",
    "import datetime as dt"
   ]
  },
  {
   "cell_type": "code",
   "execution_count": 2,
   "metadata": {},
   "outputs": [],
   "source": [
    "from modules import thermal"
   ]
  },
  {
   "cell_type": "code",
   "execution_count": 3,
   "metadata": {},
   "outputs": [],
   "source": [
    "import csv"
   ]
  },
  {
   "cell_type": "code",
   "execution_count": 6,
   "metadata": {},
   "outputs": [],
   "source": [
    "# dt is always in seconds\n",
    "\n",
    "class Satellite():\n",
    "    def __init__(self, battery_charge_frac=1.0):\n",
    "        self.subsystems = {}\n",
    "        \n",
    "        # break this out later\n",
    "        self.battery_capacity_mAh = 20000.0\n",
    "        self.converter_efficiency = 0.8\n",
    "        self.charge = self.battery_capacity_mAh * battery_charge_frac\n",
    "        self.heater_setpoints = {'payload' : 273.15 + 38.0, 'battery' : 273.15 + 30.0 }\n",
    "        self.temperatures = {'battery' : 273.15 + 30.0, 'structure' : 273.15 + 30.0, 'payload' :  273.15 + 30.0}\n",
    "        self.q_dots = {'battery' : 0, 'structure' : 0, 'payload' : 0}\n",
    "        self.solar_shunts = False\n",
    "        \n",
    "        # timings\n",
    "        self.beacon_interval = 60\n",
    "        self.beacon_duration = 1\n",
    "        self.passover_interval = 90*60\n",
    "        self.passover_duration_exp_off = 10*60\n",
    "        self.passover_duration_exp_on = 1*60\n",
    "        self.exp_start_time = 7 * 24 * 60 * 60\n",
    "        self.exp_duration = 2 * 24 * 60 * 60\n",
    "        \n",
    "        # power budget? need to fix these numbers\n",
    "        self.beacon =        {'state': False, 'i': 1.00 ,   'v': 5.0, 'name' : 'beacon'}\n",
    "        self.passover =      {'state': False, 'i': 1.00 ,   'v': 5.0, 'name' : 'passover'}\n",
    "        self.exp =           {'state': False, 'i': 0.10 ,   'v': 3.3, 'name' : 'exp_inst'}\n",
    "        self.batt_heater =   {'state': False, 'i': 0.25 ,   'v': 5.0, 'name' : 'batt_heat'}\n",
    "        self.pay_heater =    {'state': False, 'i': 0.50 ,   'v': 5.0, 'name' : 'pay_heat'}\n",
    "        self.bus_const_pwr = {'state': False , 'i': 0.20 ,   'v': 3.3, 'name' : 'bus_const'}\n",
    "        \n",
    "        self.loads = [self.exp, self.bus_const_pwr, self.beacon, self.passover, self.batt_heater, self.pay_heater]\n",
    "    \n",
    "    def set_state(self, t):       \n",
    "        # dynamic state variables\n",
    "        self.batt_heater['state'] = self.temperatures['battery'] < self.heater_setpoints['battery']\n",
    "        self.pay_heater['state'] = self.temperatures['payload'] < self.heater_setpoints['payload']\n",
    "           \n",
    "        # time based state variables\n",
    "        self.beacon['state'] = t % self.beacon_interval < self.beacon_duration\n",
    "        self.exp['state'] = False #(t < self.exp_start_time + self.exp_duration) and (t > self.beacon_duration)\n",
    "        \n",
    "        if self.exp:\n",
    "            self.passover['state'] = t % self.passover_interval < self.passover_duration_exp_on\n",
    "        else:\n",
    "            self.passover['state'] = t % self.passover_interval < self.passover_duration_exp_off          \n",
    "        \n",
    "        if self.passover['state']: self.beacon['state'] = False\n",
    "    \n",
    "    def update_thermal(self, sun_area, zcap_sun_area, battery_discharge, dt=1):\n",
    "        self.qdots['structure'] = thermal.Q_str_net(sun_area, self.temperatures['structure'],\n",
    "                                                    self.temperatures['payload'],self.temperatures['battery'])\n",
    "        self.qdots['battery'] = thermal.Q_batt_net(self.temperatures['structure'],\n",
    "                                                   self.temperatures['battery'],self.batt_heat['state'], \n",
    "                                                   battery_discharge * (dt/3600.0))\n",
    "        self.qdots['payload'] = thermal.Q_pay_net(self.temperatures['structure'],self.temperatures['payload'],\n",
    "                                                   self.batt_heat['state'], zcap_sun_area)\n",
    "        \n",
    "        \n",
    "        self.temperatures['structure'] += thermal.T_str_dt(self.qdots['structure'], self.temperatures['structure'],\n",
    "                                                    self.temperatures['payload'],self.temperatures['battery'], dt)\n",
    "        self.temperatures['battery'] += thermal.T_batt_dt(self.qdots['battery'], self.temperatures['structure'],\n",
    "                                                          self.temperatures['battery'], dt)\n",
    "        self.temperatures['payload'] += thermal.T_pay_dt(self.qdots['payload'], self.temperatures['structure'],\n",
    "                                                    self.temperatures['payload'], dt)\n",
    "         \n",
    "        \n",
    "    \n",
    "    def draw_powers(self, dt=1):\n",
    "        delta = 0\n",
    "        for load in self.loads:\n",
    "            if load['state']:\n",
    "                delta += self.discharge(load['v'], load['i'], dt)\n",
    "                delta += load['i']\n",
    "#         print ([(l['name'], l['state']) for l in self.loads])\n",
    "#         print (delta)\n",
    "        return delta\n",
    "    def get_battery_voltage(self):\n",
    "        # replace this with actual I-V curve of the batteries\n",
    "        batt_vmax = 4\n",
    "        batt_vmin = 2.5\n",
    "        return batt_vmin + (self.charge/(self.battery_capacity_mAh)) * (batt_vmax - batt_vmin)\n",
    "        \n",
    "    def charge_from_solar_panel(self, effective_area, dt=1):\n",
    "        n_cells_per_side = 6.0\n",
    "        pv_cell_current_mA = 500.0 * n_cells_per_side # 500 is the assumed mA provided by panels in sun\n",
    "        new_charge = self.charge + effective_area * pv_cell_current_mA * (dt/3600)\n",
    "        old_charge = self.charge\n",
    "        self.charge = min(new_charge, self.battery_capacity_mAh)\n",
    "        if new_charge > self.battery_capacity_mAh:\n",
    "            self.solar_shunts = True\n",
    "        return self.charge - old_charge\n",
    "        \n",
    "    def discharge(self, voltage_out, current_out, dt=1):\n",
    "        newcharge = self.charge - ((voltage_out * current_out)/self.get_battery_voltage()) * (dt / 3600.0) * (1/self.converter_efficiency)\n",
    "        delta = newcharge - self.charge\n",
    "        #         print (self.charge, newcharge)?\n",
    "        if newcharge < 0:\n",
    "            print(\"Battery Died\")\n",
    "            self.charge = 0\n",
    "        else: self.charge = newcharge\n",
    "            \n",
    "        return current_out\n"
   ]
  },
  {
   "cell_type": "code",
   "execution_count": 7,
   "metadata": {},
   "outputs": [],
   "source": [
    "t_orbit = 92 * 60\n",
    "dt = 1 # seconds\n",
    "areas_dict = {}\n",
    "headers = ['plusX', 'plusY', 'plusZ', 'negX', 'negY', 'negZ']\n",
    "with open('/home/ali/UTAT/mission-sim/sources/heron_area.csv') as area_csv_file:\n",
    "    reader = csv.reader(area_csv_file)\n",
    "    for row in reader:\n",
    "        if row[0] in headers:\n",
    "            areas_dict[row[0]] = {'times' : [], 'area' : [], 'intensity' : []}\n",
    "            current_header = row[0]\n",
    "        elif row[1] == 'Time':\n",
    "            continue\n",
    "        elif row == ['','','','','']:\n",
    "            break\n",
    "        else:            \n",
    "            areas_dict[current_header]['times'].append((row[2]))\n",
    "#             print('value:',  row[3])\n",
    "            areas_dict[current_header]['area'].append(n.float32(row[3]))\n",
    "            areas_dict[current_header]['intensity'].append(n.float32(row[4]))\n",
    "\n",
    "\n",
    "areas = np.array( n.zeros(int(t_orbit/dt)), [(h, np.float32) for h in headers])\n",
    "for h in headers: areas[h][:len(areas_dict[h]['area'])] = areas_dict[h]['area']\n",
    "times = n.array([i*dt for i in range(int(t_orbit/dt))], n.float32)\n",
    "t_orbit = len(times) * dt\n",
    "n_pts_per_orbit = len(times)\n",
    "panels = ['plusX', 'plusY',  'negX', 'negY']"
   ]
  },
  {
   "cell_type": "code",
   "execution_count": 47,
   "metadata": {},
   "outputs": [],
   "source": [
    "heron = Satellite(0.1)\n",
    "\n",
    "heron.get_battery_voltage()\n",
    "\n",
    "n_orbits = 2\n",
    "n_points = n_orbits * n_pts_per_orbit\n",
    "t_sim = n_points * dt\n",
    "\n",
    "batt_voltage = []\n",
    "discharge = []\n",
    "charge = []\n",
    "for i in range(n_points):\n",
    "    heron.set_state(i)\n",
    "    discharge.append(heron.draw_powers())\n",
    "    \n",
    "    panel_area_in_sun = 0\n",
    "    for panel in panels:\n",
    "        panel_area_in_sun += areas[panel][i % len(areas)] / 0.03\n",
    "        \n",
    "    charge.append(heron.charge_from_solar_panel(panel_area_in_sun, dt))\n",
    "    total_area = panel_area_in_sun * 0.03 + areas['negZ'][i%len(areas)] + areas['plusZ'][i%len(areas)]\n",
    "    batt_voltage.append(heron.get_battery_voltage())\n",
    "    \n",
    "    Satellite.update_thermal(total_area, areas['negZ'], )"
   ]
  },
  {
   "cell_type": "code",
   "execution_count": 31,
   "metadata": {},
   "outputs": [
    {
     "data": {
      "text/plain": [
       "<matplotlib.legend.Legend at 0x7f3dae3ceef0>"
      ]
     },
     "execution_count": 31,
     "metadata": {},
     "output_type": "execute_result"
    },
    {
     "data": {
      "image/png": "[encoded data removed]",
      "text/plain": [
       "<Figure size 720x432 with 1 Axes>"
      ]
     },
     "metadata": {
      "needs_background": "light"
     },
     "output_type": "display_data"
    }
   ],
   "source": [
    "fig = figure(figsize=(10,6))\n",
    "plot(batt_voltage, label='Battery Voltage (V)')\n",
    "plot(discharge, label='Discharge (mA)')\n",
    "plot(charge, label='Charge (mA)')\n",
    "xlim(0,3000)\n",
    "legend()"
   ]
  },
  {
   "cell_type": "code",
   "execution_count": null,
   "metadata": {},
   "outputs": [],
   "source": []
  }
 ],
 "metadata": {
  "kernelspec": {
   "display_name": "Python 3",
   "language": "python",
   "name": "python3"
  },
  "language_info": {
   "codemirror_mode": {
    "name": "ipython",
    "version": 3
   },
   "file_extension": ".py",
   "mimetype": "text/x-python",
   "name": "python",
   "nbconvert_exporter": "python",
   "pygments_lexer": "ipython3",
   "version": "3.7.2"
  }
 },
 "nbformat": 4,
 "nbformat_minor": 2
}
