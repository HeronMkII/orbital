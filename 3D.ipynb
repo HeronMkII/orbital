{
 "cells": [
  {
   "cell_type": "code",
   "execution_count": 1,
   "metadata": {},
   "outputs": [
    {
     "name": "stdout",
     "output_type": "stream",
     "text": [
      "Populating the interactive namespace from numpy and matplotlib\n"
     ]
    }
   ],
   "source": [
    "%load_ext autoreload\n",
    "%autoreload 2\n",
    "%pylab inline\n",
    "import numpy as n\n",
    "import os.path\n",
    "import datetime as dt\n",
    "\n",
    "sun_dist = 50e6#149.6e9\n",
    "sun_ang = 0 # radians\n",
    "sun_radius = 20e6\n",
    "earth_size = 6.371e6\n",
    "\n",
    "satellite_sizefactor = 5e6\n",
    "altitude = 10e5 + earth_size # m\n",
    "period = 90 # minutes\n",
    "alpha = 0\n",
    "zrot_period = 1 # minutes, period for spitroasting"
   ]
  },
  {
   "cell_type": "code",
   "execution_count": 2,
   "metadata": {},
   "outputs": [],
   "source": [
    "\n",
    "def update_location(obj, theta, r):\n",
    "    obj.pos = vector(r * n.cos(theta), r  * n.sin(theta), 0)\n",
    "\n",
    "def orbit_xyz(t, # time elapsed / period, 0 < t < 1\n",
    "              alpha = 0, # 0 for ltdn = 12, pi/2 for ltdn = 6, -pi/2 < alpha < pi/2\n",
    "              beta = 0, # 0 for 90 degree inclination\n",
    "              altitude = 1,\n",
    "             ):\n",
    "    x = n.sin(t * 2 * n.pi) * n.cos(alpha) \n",
    "    y = n.cos(t * 2 * n.pi) * n.cos(beta) - \\\n",
    "        n.sin(t * 2 * n.pi) * n.sin(alpha) * n.sin(beta)\n",
    "    z = - n.sin(t*2 * n.pi) * n.sin(alpha) * n.cos(beta) + \\\n",
    "        n.cos(t * 2 * n.pi) * n.sin(beta)\n",
    "    \n",
    "    return vector(altitude*x,altitude*y,altitude*z)\n",
    "    \n",
    "def get_theta(t, method = 'fast-pole-flip'):\n",
    "    assert method in ['fast-pole-flip', 'slow-pole-flip', 'linear']\n",
    "    \n",
    "    #if method == 'linear':\n",
    "    theta = (4 * n.pi * t)  \n",
    "    if method == 'slow-pole-flip':\n",
    "        theta -= n.sin(4*n.pi*t)\n",
    "    elif method == 'fast-pole-flip':\n",
    "        theta += n.sin(4*n.pi*t)\n",
    "    \n",
    "    return theta % (2*n.pi)\n",
    "\n",
    "def get_zrot(t):\n",
    "    # note that this t is not in the same scale as the ts above\n",
    "    # this t is time_slice / period_zrot\n",
    "    # other ts are curr_time / period\n",
    "    # returns the amount of rotation \n",
    "    # for a constant rate of rotation it will return a constant\n",
    "    return 2*n.pi * t\n",
    "    "
   ]
  },
  {
   "cell_type": "code",
   "execution_count": 3,
   "metadata": {
    "scrolled": true
   },
   "outputs": [
    {
     "data": {
      "application/javascript": [
       "if (typeof Jupyter !== \"undefined\") {require.undef(\"nbextensions/vpython_libraries/glow.min\");}else{element.textContent = ' ';}"
      ],
      "text/plain": [
       "<IPython.core.display.Javascript object>"
      ]
     },
     "metadata": {},
     "output_type": "display_data"
    },
    {
     "data": {
      "application/javascript": [
       "if (typeof Jupyter !== \"undefined\") {require.undef(\"nbextensions/vpython_libraries/glowcomm\");}else{element.textContent = ' ';}"
      ],
      "text/plain": [
       "<IPython.core.display.Javascript object>"
      ]
     },
     "metadata": {},
     "output_type": "display_data"
    },
    {
     "data": {
      "application/javascript": [
       "if (typeof Jupyter !== \"undefined\") {require.undef(\"nbextensions/vpython_libraries/jquery-ui.custom.min\");}else{element.textContent = ' ';}"
      ],
      "text/plain": [
       "<IPython.core.display.Javascript object>"
      ]
     },
     "metadata": {},
     "output_type": "display_data"
    },
    {
     "data": {
      "application/javascript": [
       "if (typeof Jupyter !== \"undefined\") {require([\"nbextensions/vpython_libraries/glow.min\"], function(){console.log(\"GLOW LOADED\");});}else{element.textContent = ' ';}"
      ],
      "text/plain": [
       "<IPython.core.display.Javascript object>"
      ]
     },
     "metadata": {},
     "output_type": "display_data"
    },
    {
     "data": {
      "application/javascript": [
       "if (typeof Jupyter !== \"undefined\") {require([\"nbextensions/vpython_libraries/glowcomm\"], function(){console.log(\"GLOWCOMM LOADED\");});}else{element.textContent = ' ';}"
      ],
      "text/plain": [
       "<IPython.core.display.Javascript object>"
      ]
     },
     "metadata": {},
     "output_type": "display_data"
    },
    {
     "data": {
      "application/javascript": [
       "if (typeof Jupyter !== \"undefined\") {require([\"nbextensions/vpython_libraries/jquery-ui.custom.min\"], function(){console.log(\"JQUERY LOADED\");});}else{element.textContent = ' ';}"
      ],
      "text/plain": [
       "<IPython.core.display.Javascript object>"
      ]
     },
     "metadata": {},
     "output_type": "display_data"
    },
    {
     "data": {
      "text/html": [
       "<div id=\"glowscript\" class=\"glowscript\"></div>"
      ],
      "text/plain": [
       "<IPython.core.display.HTML object>"
      ]
     },
     "metadata": {},
     "output_type": "display_data"
    },
    {
     "data": {
      "application/javascript": [
       "if (typeof Jupyter !== \"undefined\") { window.__context = { glowscript_container: $(\"#glowscript\").removeAttr(\"id\")};}else{ element.textContent = ' ';}"
      ],
      "text/plain": [
       "<IPython.core.display.Javascript object>"
      ]
     },
     "metadata": {},
     "output_type": "display_data"
    }
   ],
   "source": [
    "from vpython import *"
   ]
  },
  {
   "cell_type": "code",
   "execution_count": 1,
   "metadata": {},
   "outputs": [],
   "source": [
    "\n",
    "scene=canvas()\n",
    "\n",
    "sun = sphere(pos=vector(0,sun_dist ,0) , radius=sun_radius, emissive=True,color=color.yellow)\n",
    "\n",
    "earth = sphere(pos=vector(0,0,0), radius=earth_size, color=color.green, make_trail = False)\n",
    "\n",
    "xy_plane = box(pos=vector(sun_dist/2, 0,0),length = sun_dist, width = 1, height = sun_dist, color=color.red, opacity = 0.2)\n",
    "xy_plane.visible = False\n",
    "scene.lights = []\n",
    "# earth = sphere(pos=vector(0,0,0), radius=earth_size, color=color.green, make_trail = False)\n",
    "# sun = sphere(pos=vector(sun_dist, 0 ,0) , radius=sun_radius, emissive=True,color=color.yellow)\n",
    "sunlight = local_light(pos=vector(sun_dist , 0,0), color=color.gray(0.4))\n",
    "scene.ambient = color.gray(0.5)\n",
    "satellite = box(pos=vector(0,altitude, 0), length = 0.1*satellite_sizefactor, width = 0.1*satellite_sizefactor, height = 0.3*satellite_sizefactor, up = vector(0,1,0), make_trail = True)"
   ]
  },
  {
   "cell_type": "code",
   "execution_count": 5,
   "metadata": {},
   "outputs": [],
   "source": [
    "xy_plane.visible=True\n",
    "xy_plane.opacity = 0.6"
   ]
  },
  {
   "cell_type": "code",
   "execution_count": 7,
   "metadata": {},
   "outputs": [],
   "source": [
    "satellite.clear_trail()\n",
    "alpha = 0.4\n",
    "beta = n.pi/4\n",
    "n_points = 40 # number of simulation points per orbit\n",
    "\n",
    "simtime = 5 #secs, simulation time of a single orbit\n",
    "number_of_orbits = 1 # number of orbits to simulate\n",
    "\n",
    "timeslice = period / (1.0 * n_points)\n",
    "for i in linspace(0,number_of_orbits*period,number_of_orbits*n_points):\n",
    "    rate(n_points/simtime)\n",
    "    t = (i % period)*1.0/period\n",
    "    \n",
    "    \n",
    "    new_pos = orbit_xyz(t, alpha, beta, altitude=altitude)\n",
    "    #print (new_pos)\n",
    "#     new_theta = get_theta(t, 'fast-pole-flip')\n",
    "    satellite.pos = new_pos\n",
    "#     satellite.up = orbit_xyz(new_theta/(2*n.pi), alpha)\n",
    "#     zrot = get_zrot(timeslice / (1.0*zrot_period))\n",
    "#     satellite.rotate(zrot, satellite.up)"
   ]
  },
  {
   "cell_type": "markdown",
   "metadata": {},
   "source": [
    "### Orbits off the xy-plane (ltdn != 12)\n",
    "Define the orbital plane using the angle $\\alpha$, which in our case specifies an angle of rotation around the y-axis. \n",
    "\n",
    "From the description [here](https://math.stackexchange.com/questions/1742723/equation-of-a-circle-in-spherical-coordinates) we can paramterize the orbit on the x-y plane, and then apply the rotation matrix to it. So, first, the orbit on the xy plane where $ 0 \\leq t < 2 \\pi$ : \n",
    "\n",
    "$$\n",
    "\\begin{bmatrix}\n",
    "x \\\\ y \\\\ z\n",
    "\\end{bmatrix} \n",
    "= \n",
    "\\begin{bmatrix}\n",
    "r \\sin t \\\\ r \\cos t \\\\ 0\n",
    "\\end{bmatrix}\n",
    "$$\n",
    "\n",
    "The rotation matrix for a rotation $\\alpha$ around the y-axis is:\n",
    "\n",
    "$$\n",
    "\\begin {bmatrix}\n",
    "\\cos \\alpha & 0 & \\sin \\alpha \\\\\n",
    "0 & 1 & 0 \\\\\n",
    "- \\sin \\alpha & 0 & \\cos \\alpha\n",
    "\\end{bmatrix}\n",
    "$$\n",
    "\n",
    "So, multiply that by the parametric equation to get:\n",
    " \n",
    "$$\n",
    "\\begin{bmatrix}\n",
    "x \\\\ y \\\\ z\n",
    "\\end{bmatrix} \n",
    "= \n",
    "\\begin{bmatrix}\n",
    "r \\sin t \\cos \\alpha \\\\ r \\cos t \\\\ - r \\sin t \\sin \\alpha\n",
    "\\end{bmatrix}\n",
    "$$\n",
    "\n",
    "The function `orbit_xyz` defined above does this operation. Based on the current time as a fraction of the period, and alpha, it gives back the x,y,z coordinates of the object. Note that the $t$ in the math above is between 0 and 2pi, but the t in the function is between 0 and 1 for convenience"
   ]
  },
  {
   "cell_type": "markdown",
   "metadata": {},
   "source": [
    "### The flip\n",
    "For now, we assume that the 'up' axis of the satellite will make an angle $\\theta$ with the y-axis of our earth model. At $t = 0$, $\\theta = 0$. At $t = 0.25$, we have $\\theta = \\pi$ since the satellite will be \"upside down\" when passing the equator. At $t = 0.5$, $\\theta = 2\\pi$. For the second half of the orbit, it loops around the same way.\n",
    "\n",
    "Other than these points, the rate of change of $\\theta$ is currently unclear. Few possible ways of modelling it:\n",
    "\n",
    "* Linear : $\\theta = 4 \\pi t$\n",
    "* Trigonometric, with fast flipping at the poles: \n",
    "\n",
    "$$\n",
    "\\frac{d\\theta}{dt} \\propto 1 + \\cos(4\\pi t) \\\\\n",
    "\\theta(t) = 4 \\pi(t + \\frac{1}{4\\pi} \\sin (4\\pi t)) \\\\\n",
    "\\theta(t) = 4 \\pi t + \\sin (4\\pi t))\n",
    "$$\n",
    "\n",
    "* Trigonometric, with slow flipping at the poles: \n",
    "\n",
    "$$\n",
    "\\frac{d\\theta}{dt} \\propto 1 - \\cos(4\\pi t) \\\\\n",
    "\\theta(t) = 4 \\pi(t - \\frac{1}{4\\pi} \\sin (4\\pi t)) \\\\\n",
    "\\theta(t) = 4 \\pi t - \\sin (4\\pi t))\n",
    "$$\n",
    "\n",
    "\n",
    "OK, so now we have a way of calculating the angle based on the current time. Now we need to convert this angle to a vector from the origin.\n",
    "\n",
    "If we have a ltdn of 12 (alpha = 0), we can draw a unit circle on the xy-plane and based on a given $\\theta$ we can calculate:\n",
    "\n",
    "$$\n",
    "\\begin{bmatrix} x \\\\ y \\\\ z \\end {bmatrix} = \\begin{bmatrix} \\sin \\theta \\\\ \\cos \\theta \\\\ 0 \\end {bmatrix}\n",
    "$$\n",
    "\n",
    "For cases where we have a non-zero $\\alpha$, we can apply the rotation matrix to these coordinates to get basically the same exact formula:\n",
    "\n",
    "$$\n",
    "\\begin{bmatrix}\n",
    "x \\\\ y \\\\ z\n",
    "\\end{bmatrix} \n",
    "= \n",
    "\\begin{bmatrix}\n",
    " \\sin \\theta \\cos \\alpha \\\\  \\cos \\theta \\\\ -  \\sin \\theta \\sin \\alpha\n",
    "\\end{bmatrix}\n",
    "$$\n",
    "\n",
    "Note the difference here - $\\theta$ is a time-dependent quantity! So it's probably more correct to replace it with $\\theta(t)$.\n",
    "\n",
    "To calculate the \"up\" direction for the satellite, we will use the `get_theta` function defined above (with a few different options for the theta approximation). Since the math is essentially identical, to convert this theta into a vector we will use the `orbit_xyz` function. The only difference will be a factor of $2\\pi$ in the inputs."
   ]
  },
  {
   "cell_type": "code",
   "execution_count": 18,
   "metadata": {},
   "outputs": [
    {
     "data": {
      "image/png": "[encoded data removed]",
      "text/plain": [
       "<Figure size 432x288 with 1 Axes>"
      ]
     },
     "metadata": {
      "needs_background": "light"
     },
     "output_type": "display_data"
    }
   ],
   "source": [
    "for method in ['fast-pole-flip', 'slow-pole-flip', 'linear']:\n",
    "    thetas = []\n",
    "    for i in n.linspace(0, 1, 100):\n",
    "        thetas.append(get_theta(i, method))\n",
    "    plot(n.linspace(0,1,100),thetas, label=method)\n",
    "    xlabel('fraction of orbit')\n",
    "    ylabel('theta')\n",
    "    legend()\n",
    "    "
   ]
  },
  {
   "cell_type": "markdown",
   "metadata": {},
   "source": [
    "### Fixing the math to allow for inclination \n",
    "OK, we've defined $\\alpha$ as the angle the orbital plane makes with the xy-plane we defined above. Reminder: xy-plane is defined as the plane containing the orbit with 90 degrees inclination. \n",
    "\n",
    "Even though we will have a set inclination of 98.6, let's generalize it anyways (for fun).\n",
    "\n",
    "For convenience, let's use $\\beta = i - 90$ where $i$ is the inclination. So our simple orbit with LTDN=12 and inclination=90 is defined as $\\alpha=0, \\beta=0$. Let's now define a time-dependent function that describes the rotation of the satellite, with the same convention as above, so using $0 \\leq t < 2\\pi$.\n",
    "\n",
    "$$\n",
    "f(t; \\alpha, \\beta) = R_{\\alpha,\\beta} \\begin{bmatrix}\n",
    "r \\sin t \\\\ r \\cos t \\\\ 0\n",
    "\\end{bmatrix}\n",
    "$$\n",
    "\n",
    "\n",
    "Here, $R_{\\alpha,\\beta}$ is the rotation matrix that will take points in a rotated orbit and map them to our original coordinate plane. \n",
    "\n",
    "Use [this](http://mathworld.wolfram.com/EulerAngles.html) description of Euler angles. In the image there, the first rotation (D) is not applicable in our case. "
   ]
  },
  {
   "cell_type": "code",
   "execution_count": null,
   "metadata": {},
   "outputs": [],
   "source": []
  },
  {
   "cell_type": "code",
   "execution_count": null,
   "metadata": {},
   "outputs": [],
   "source": []
  },
  {
   "cell_type": "code",
   "execution_count": null,
   "metadata": {},
   "outputs": [],
   "source": []
  },
  {
   "cell_type": "code",
   "execution_count": null,
   "metadata": {},
   "outputs": [],
   "source": []
  },
  {
   "cell_type": "markdown",
   "metadata": {},
   "source": [
    "Instead, use the general form of the rotation matrix for axis-angle rotations [here](https://en.wikipedia.org/wiki/Rotation_matrix#Rotation_matrix_from_axis_and_angle).\n",
    "\n",
    "We'll describe the rotation as a composition of two rotations. The first rotation is around the x-axis to get the inclination, second is around the y-axis to get the ltdn. \n",
    "\n",
    "$$\n",
    "R_{\\alpha, \\beta} = \n",
    "\\begin {bmatrix}\n",
    "\\cos \\alpha & 0 & \\sin \\alpha \\\\\n",
    "0 & 1 & 0 \\\\\n",
    "- \\sin \\alpha & 0 & \\cos \\alpha\n",
    "\\end{bmatrix}\n",
    "\\begin {bmatrix}\n",
    "1 & 0 & 0 \\\\\n",
    "0 & \\cos\\beta & \\sin\\beta \\\\\n",
    "0 & -\\sin\\beta & \\cos \\beta\n",
    "\\end{bmatrix}\n",
    "=\n",
    "\\begin {bmatrix}\n",
    "\\cos \\alpha & -\\sin \\alpha \\sin \\beta & \\sin \\alpha \\cos\\beta \\\\\n",
    "0 & \\cos \\beta & \\sin \\beta \\\\\n",
    "- \\sin \\alpha & -\\cos\\alpha \\sin\\beta  & \\cos \\alpha \\cos \\beta\n",
    "\\end{bmatrix}\n",
    "$$\n",
    "\n",
    "So, let's bring it back to our function:\n",
    "\n",
    "$$\n",
    "f(t;\\alpha, \\beta) = r\n",
    "\\begin{bmatrix}\n",
    "\\sin t \\cos \\alpha - \\cos t \\sin \\alpha \\sin \\beta \\\\\n",
    "\\cos t \\cos \\beta \\\\\n",
    "- \\sin t \\sin \\alpha + \\cos t \\cos \\alpha \\sin \\beta\n",
    "\\end{bmatrix}\n",
    "$$\n",
    "\n",
    "OK, so the `orbit_xyz` function should be replace with that. In case we need it again, here's the pre-inclination version of the `orbit_xyz` function that only supports $\\alpha$\n",
    "```python\n",
    "def orbit_xyz(t, # time elapsed / period, 0 < t < 1\n",
    "              alpha, # 0 for ltdn = 12, pi/2 for ltdn = 6, -pi/2 < alpha < pi/2\n",
    "              altitude = 1,\n",
    "             ):\n",
    "    x = n.sin(t * 2 * n.pi) * n.cos(alpha)\n",
    "    y = n.cos(t * 2 * n.pi)\n",
    "    z = - n.sin(t*2 * n.pi) * n.sin(alpha)\n",
    "    \n",
    "    return vector(altitude*x,altitude*y,altitude*z)\n",
    "```\n",
    "\n",
    "Did I mess up the order of multiplication? \n",
    "\n",
    "$$\n",
    "\\begin {bmatrix}\n",
    "\\cos \\alpha & 0 & \\sin \\alpha  \\\\\n",
    "- \\sin \\alpha \\sin \\beta & \\cos \\beta & \\sin \\beta \\cos \\alpha \\\\\n",
    "- \\sin \\alpha \\cos \\beta & - \\sin\\beta  & \\cos \\alpha \\cos \\beta\n",
    "\\end{bmatrix}\n",
    "\\begin{bmatrix}\n",
    "r \\sin t \\\\ r \\cos t \\\\ 0\n",
    "\\end{bmatrix} =  r\n",
    "\\begin{bmatrix}\n",
    "\\sin t \\cos \\alpha \\\\\n",
    "- \\sin t \\sin \\alpha \\sin \\beta + \\cos t \\cos\\beta \\\\\n",
    "-\\sin t \\sin \\alpha \\cos \\beta - \\cos t \\sin \\beta\n",
    "\\end{bmatrix}\n",
    "$$"
   ]
  },
  {
   "cell_type": "markdown",
   "metadata": {},
   "source": []
  },
  {
   "cell_type": "code",
   "execution_count": 13,
   "metadata": {},
   "outputs": [],
   "source": [
    "def orbit_xyz(t, # time elapsed / period, 0 < t < 1\n",
    "              alpha = 0, # 0 for ltdn = 12, pi/2 for ltdn = 6, -pi/2 < alpha < pi/2\n",
    "              beta = 0, # 0 for 90 degree inclination\n",
    "              altitude = 1,\n",
    "             ):\n",
    "    x = n.sin(t * 2 * n.pi) * n.cos(alpha) \n",
    "    y = n.cos(t * 2 * n.pi) * n.cos(beta) - \\\n",
    "        n.sin(t * 2 * n.pi) * n.sin(alpha) * n.sin(beta)\n",
    "    z = - n.sin(t*2 * n.pi) * n.sin(alpha) * n.cos(beta) + \\\n",
    "        n.cos(t * 2 * n.pi) * n.sin(beta)\n",
    "    \n",
    "    return vector(altitude*x,altitude*y,altitude*z)"
   ]
  },
  {
   "cell_type": "code",
   "execution_count": 15,
   "metadata": {},
   "outputs": [],
   "source": [
    "# Flipped version"
   ]
  },
  {
   "cell_type": "code",
   "execution_count": null,
   "metadata": {},
   "outputs": [],
   "source": [
    "# assume starting position at (0,1, 0)\n",
    "# see math below about non-xy-plane orbits\n",
    "def orbit_xyz(t, # time elapsed / period, 0 < t < 1\n",
    "              alpha = 0, # 0 for ltdn = 12, pi/2 for ltdn = 6, -pi/2 < alpha < pi/2\n",
    "              beta = 0, # 0 for 90 degree inclination\n",
    "              altitude = 1,\n",
    "             ):\n",
    "    x = n.sin(t * 2 * n.pi) * n.cos(alpha) - \\\n",
    "        n.cos(t * 2 * n.pi) * n.sin(alpha) * n.sin(beta)\n",
    "    y = n.cos(t * 2 * n.pi) * n.cos(beta)\n",
    "    z = - n.sin(t*2 * n.pi) * n.sin(alpha) + \\\n",
    "        n.cos(t * 2 * n.pi) * n.cos(alpha) * n.sin(beta)\n",
    "    \n",
    "    return vector(altitude*x,altitude*y,altitude*z)"
   ]
  }
 ],
 "metadata": {
  "kernelspec": {
   "display_name": "Python 3",
   "language": "python",
   "name": "python3"
  },
  "language_info": {
   "codemirror_mode": {
    "name": "ipython",
    "version": 3
   },
   "file_extension": ".py",
   "mimetype": "text/x-python",
   "name": "python",
   "nbconvert_exporter": "python",
   "pygments_lexer": "ipython3",
   "version": "3.7.2"
  }
 },
 "nbformat": 4,
 "nbformat_minor": 2
}
